{
 "cells": [
  {
   "cell_type": "markdown",
   "metadata": {},
   "source": [
    "<h3>1. Import Required Libraries</h3>"
   ]
  },
  {
   "cell_type": "code",
   "execution_count": 66,
   "metadata": {},
   "outputs": [],
   "source": [
    "\n",
    "import tkinter as tk\n",
    "from tkinter import filedialog, messagebox\n",
    "from PIL import Image, ImageTk\n",
    "from tensorflow.keras.models import load_model\n",
    "import numpy as np\n",
    "import os\n",
    "from tensorflow.keras.utils import load_img, img_to_array\n"
   ]
  },
  {
   "cell_type": "markdown",
   "metadata": {},
   "source": [
    "<h3>2. Define Organs and Load Model</h3>"
   ]
  },
  {
   "cell_type": "code",
   "execution_count": 67,
   "metadata": {},
   "outputs": [
    {
     "name": "stderr",
     "output_type": "stream",
     "text": [
      "WARNING:absl:Compiled the loaded model, but the compiled metrics have yet to be built. `model.compile_metrics` will be empty until you train or evaluate the model.\n"
     ]
    }
   ],
   "source": [
    "\n",
    "# Define organ names\n",
    "organ_names = ['heart', 'brain', 'liver', 'limbs']\n",
    "\n",
    "# Load the saved model\n",
    "model = load_model(os.path.join('save_model', 'organsClssify.h5'))\n",
    "\n",
    "# Define a label map for classification if needed\n",
    "label_map = {\n",
    "    0: 1,  # Map heart to brain\n",
    "    1: 0,  # Map brain to heart \n",
    "    2: 3,  # Map limbs to liver\n",
    "    3: 2   # Map liver to limbs\n",
    "}\n",
    "\n",
    "# Initialize the path for the uploaded image\n",
    "uploaded_image_path = \"\"\n"
   ]
  },
  {
   "cell_type": "markdown",
   "metadata": {},
   "source": [
    "<h3>3. Preprocessing and Prediction Functions</h3>"
   ]
  },
  {
   "cell_type": "code",
   "execution_count": 68,
   "metadata": {},
   "outputs": [],
   "source": [
    "\n",
    "# Function to preprocess the image and make predictions\n",
    "def preprocess_image(image_path, img_size=(256, 256)):\n",
    "    img = load_img(image_path, target_size=img_size)\n",
    "    img_array = img_to_array(img) / 255.0  # Normalize pixel values\n",
    "    return np.expand_dims(img_array, axis=0)  # Expand dimensions for the model input\n",
    "\n",
    "\n",
    "# Function to predict the organ from the image\n",
    "def test_model(image_path):\n",
    "    img_array = preprocess_image(image_path)\n",
    "    prediction = model.predict(img_array)  # Get model predictions\n",
    "    predicted_class = np.argmax(prediction, axis=1)[0]  # Get the index of the highest score\n",
    "    remapped_class = label_map.get(predicted_class, predicted_class)  # Remap the class if necessary\n",
    "    return organ_names[remapped_class]  # Return the corresponding organ name\n",
    "\n",
    "\n",
    "# Function to predict the organ when the \"Predict\" button is clicked\n",
    "def predict():\n",
    "    if uploaded_image_path:\n",
    "        try:\n",
    "            prediction = test_model(uploaded_image_path)  # Make prediction\n",
    "            prediction_label.config(text=f\"Predicted Organ: {prediction}\")  # Display prediction\n",
    "        except Exception as e:\n",
    "            messagebox.showerror(\"Error\", f\"An error occurred: {e}\")\n",
    "    else:\n",
    "        messagebox.showwarning(\"Warning\", \"Please upload an image first!\")\n",
    "\n"
   ]
  },
  {
   "cell_type": "markdown",
   "metadata": {},
   "source": [
    "<h3>4. Image Upload Function</h3>"
   ]
  },
  {
   "cell_type": "code",
   "execution_count": 69,
   "metadata": {},
   "outputs": [],
   "source": [
    "\n",
    "# Function to open a dialog box to select an image\n",
    "def upload_image():\n",
    "    global uploaded_image_path  # Use global variable to store image path\n",
    "    uploaded_image_path = filedialog.askopenfilename(filetypes=[(\"Image Files\", \"*.jpg *.jpeg *.png\")])\n",
    "    if uploaded_image_path:\n",
    "        try:\n",
    "            # Load and display image\n",
    "            img = Image.open(uploaded_image_path)\n",
    "            img.thumbnail((250, 250))  # Resize image to fit the display\n",
    "            img_tk = ImageTk.PhotoImage(img)\n",
    "            image_label.config(image=img_tk)\n",
    "            image_label.image = img_tk  # Keep reference to avoid garbage collection\n",
    "            \n",
    "            prediction_label.config(text=\"\")  # Clear previous prediction\n",
    "        except Exception as e:\n",
    "            messagebox.showerror(\"Error\", f\"An error occurred: {e}\")\n"
   ]
  },
  {
   "cell_type": "markdown",
   "metadata": {},
   "source": [
    "<h3>5. GUI Setup</h3>"
   ]
  },
  {
   "cell_type": "code",
   "execution_count": 70,
   "metadata": {},
   "outputs": [
    {
     "name": "stdout",
     "output_type": "stream",
     "text": [
      "\u001b[1m1/1\u001b[0m \u001b[32m━━━━━━━━━━━━━━━━━━━━\u001b[0m\u001b[37m\u001b[0m \u001b[1m0s\u001b[0m 91ms/step\n",
      "\u001b[1m1/1\u001b[0m \u001b[32m━━━━━━━━━━━━━━━━━━━━\u001b[0m\u001b[37m\u001b[0m \u001b[1m0s\u001b[0m 32ms/step\n",
      "\u001b[1m1/1\u001b[0m \u001b[32m━━━━━━━━━━━━━━━━━━━━\u001b[0m\u001b[37m\u001b[0m \u001b[1m0s\u001b[0m 30ms/step\n",
      "\u001b[1m1/1\u001b[0m \u001b[32m━━━━━━━━━━━━━━━━━━━━\u001b[0m\u001b[37m\u001b[0m \u001b[1m0s\u001b[0m 27ms/step\n",
      "\u001b[1m1/1\u001b[0m \u001b[32m━━━━━━━━━━━━━━━━━━━━\u001b[0m\u001b[37m\u001b[0m \u001b[1m0s\u001b[0m 32ms/step\n",
      "\u001b[1m1/1\u001b[0m \u001b[32m━━━━━━━━━━━━━━━━━━━━\u001b[0m\u001b[37m\u001b[0m \u001b[1m0s\u001b[0m 31ms/step\n",
      "\u001b[1m1/1\u001b[0m \u001b[32m━━━━━━━━━━━━━━━━━━━━\u001b[0m\u001b[37m\u001b[0m \u001b[1m0s\u001b[0m 27ms/step\n",
      "\u001b[1m1/1\u001b[0m \u001b[32m━━━━━━━━━━━━━━━━━━━━\u001b[0m\u001b[37m\u001b[0m \u001b[1m0s\u001b[0m 37ms/step\n",
      "\u001b[1m1/1\u001b[0m \u001b[32m━━━━━━━━━━━━━━━━━━━━\u001b[0m\u001b[37m\u001b[0m \u001b[1m0s\u001b[0m 32ms/step\n",
      "\u001b[1m1/1\u001b[0m \u001b[32m━━━━━━━━━━━━━━━━━━━━\u001b[0m\u001b[37m\u001b[0m \u001b[1m0s\u001b[0m 27ms/step\n"
     ]
    }
   ],
   "source": [
    "\n",
    "# Set up the GUI\n",
    "root = tk.Tk()\n",
    "root.title(\"Organ Classification\")\n",
    "root.geometry(\"400x450\")\n",
    "root.config(bg=\"#1e1e1e\")  # Dark background for the main window\n",
    "\n",
    "# Heading label\n",
    "heading = tk.Label(root, text=\"Organ Classification\", bg=\"#1e1e1e\", fg=\"#ffffff\", font=(\"Arial\", 16, \"bold\"))\n",
    "heading.pack(pady=10)\n",
    "\n",
    "# Frame for image display\n",
    "frame = tk.Frame(root, bg=\"#2e2e2e\", padx=20, pady=20, relief=\"groove\", bd=2)\n",
    "frame.pack(pady=20)\n",
    "\n",
    "# Label to display the image\n",
    "image_label = tk.Label(frame, bg=\"#2e2e2e\")\n",
    "image_label.pack(pady=10)\n",
    "\n",
    "# Button to upload image\n",
    "upload_button = tk.Button(root, text=\"Upload Image\", command=upload_image, bg=\"#00796b\", fg=\"white\", font=(\"Arial\", 12), padx=10)\n",
    "upload_button.pack(pady=10)\n",
    "\n",
    "# Button to predict the organ\n",
    "predict_button = tk.Button(root, text=\"Predict\", command=predict, bg=\"#e91e63\", fg=\"white\", font=(\"Arial\", 12), padx=10)\n",
    "predict_button.pack(pady=10)\n",
    "\n",
    "# Label to display the prediction result\n",
    "prediction_label = tk.Label(root, text=\"\", bg=\"#1e1e1e\", fg=\"#b0b0b0\", font=(\"Arial\", 14))\n",
    "prediction_label.pack(pady=10)\n",
    "\n",
    "# Start the GUI loop\n",
    "root.mainloop()"
   ]
  }
 ],
 "metadata": {
  "kernelspec": {
   "display_name": "AI_ENV",
   "language": "python",
   "name": "python3"
  },
  "language_info": {
   "codemirror_mode": {
    "name": "ipython",
    "version": 3
   },
   "file_extension": ".py",
   "mimetype": "text/x-python",
   "name": "python",
   "nbconvert_exporter": "python",
   "pygments_lexer": "ipython3",
   "version": "3.11.4"
  }
 },
 "nbformat": 4,
 "nbformat_minor": 2
}
